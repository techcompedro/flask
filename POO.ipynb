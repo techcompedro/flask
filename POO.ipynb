{
 "cells": [
  {
   "cell_type": "code",
   "execution_count": null,
   "metadata": {},
   "outputs": [],
   "source": [
    "#classe carro\n",
    "class Carro:\n",
    "    def __init__(self, marca, cor, n_portas, modelo, ano):\n",
    "        self.marca = marca\n",
    "        self.cor = cor\n",
    "        self.n_portas = n_portas\n",
    "        self.modelo = modelo\n",
    "        self.ano = ano\n",
    "        self.ligado = False\n",
    "        self.flash = 0\n",
    "      \n",
    "\n",
    "    def ligar(self):\n",
    "        if self.ligado:\n",
    "            print('o carro ja estar ligado')\n",
    "\n",
    "        else:\n",
    "            print('ligando carro...')  \n",
    "            self.ligado = True\n",
    "    \n",
    "    def desligar(self):\n",
    "        if not self.ligado:\n",
    "            print('o carro ja esta desligado')\n",
    "        else:\n",
    "            print('desligando carro...')  \n",
    "            self.ligado = False\n",
    "    \n",
    "    def acelerar(self):\n",
    "        if self.ligado:\n",
    "            self.flash += 10\n",
    "            print(f'velocidade atual {self.flash}km')\n",
    "        \n",
    "        else:\n",
    "            print('o carro não pode acelerar porque estar desligado')\n",
    "        \n",
    "\n",
    "\n",
    "\n",
    "carro = Carro('Marca1', 'Cor1', 4, 'Modelo1', 2020)\n",
    "\n",
    "carro.ligar()\n",
    "carro.ligar()\n",
    "carro.desligar()\n",
    "carro.desligar()\n",
    "carro.acelerar()\n",
    "carro.ligar()\n",
    "carro.acelerar()\n",
    "carro.acelerar()\n",
    "carro.acelerar()\n",
    "carro.acelerar()\n",
    "carro.acelerar()\n",
    "carro.acelerar()\n",
    "\n",
    "\n"
   ]
  },
  {
   "cell_type": "code",
   "execution_count": 12,
   "metadata": {},
   "outputs": [
    {
     "name": "stdout",
     "output_type": "stream",
     "text": [
      "Joao\n"
     ]
    },
    {
     "ename": "AttributeError",
     "evalue": "'Pessoa' object has no attribute '__altura'",
     "output_type": "error",
     "traceback": [
      "\u001b[1;31m---------------------------------------------------------------------------\u001b[0m",
      "\u001b[1;31mAttributeError\u001b[0m                            Traceback (most recent call last)",
      "Cell \u001b[1;32mIn[12], line 19\u001b[0m\n\u001b[0;32m     17\u001b[0m pessoa1\u001b[38;5;241m.\u001b[39mset_nome(\u001b[38;5;124m'\u001b[39m\u001b[38;5;124mJoao\u001b[39m\u001b[38;5;124m'\u001b[39m)\n\u001b[0;32m     18\u001b[0m \u001b[38;5;28mprint\u001b[39m(pessoa1\u001b[38;5;241m.\u001b[39mget_nome())\n\u001b[1;32m---> 19\u001b[0m \u001b[38;5;28mprint\u001b[39m(\u001b[43mpessoa1\u001b[49m\u001b[38;5;241;43m.\u001b[39;49m\u001b[43m__altura\u001b[49m)\n",
      "\u001b[1;31mAttributeError\u001b[0m: 'Pessoa' object has no attribute '__altura'"
     ]
    }
   ],
   "source": [
    "#classe pessoa\n",
    "\n",
    "class Pessoa:\n",
    "    def __init__(self, nome, idade, altura):\n",
    "        self.__nome = nome\n",
    "        self.__idade = idade\n",
    "        self.__altura = altura\n",
    "\n",
    "    def get_nome(self):\n",
    "        return self.__nome\n",
    "    \n",
    "    def set_nome(self, novo_nome):\n",
    "        self.__nome = novo_nome\n",
    "        \n",
    "\n",
    "pessoa1 = Pessoa('Davi', 20, 1.75)\n",
    "pessoa1.set_nome('Joao')\n",
    "print(pessoa1.get_nome())\n",
    "print(pessoa1.__altura)"
   ]
  }
 ],
 "metadata": {
  "kernelspec": {
   "display_name": "Python 3",
   "language": "python",
   "name": "python3"
  },
  "language_info": {
   "codemirror_mode": {
    "name": "ipython",
    "version": 3
   },
   "file_extension": ".py",
   "mimetype": "text/x-python",
   "name": "python",
   "nbconvert_exporter": "python",
   "pygments_lexer": "ipython3",
   "version": "3.12.1"
  }
 },
 "nbformat": 4,
 "nbformat_minor": 2
}
